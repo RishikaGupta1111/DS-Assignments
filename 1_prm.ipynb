{
  "nbformat": 4,
  "nbformat_minor": 0,
  "metadata": {
    "colab": {
      "provenance": [],
      "authorship_tag": "ABX9TyMMWZwtu4dgzymh/cydMl2q"
    },
    "kernelspec": {
      "name": "python3",
      "display_name": "Python 3"
    },
    "language_info": {
      "name": "python"
    }
  },
  "cells": [
    {
      "cell_type": "markdown",
      "source": [
        "**You will have a number of elements and in the next n lines element of a list. You have to create a list from the given strings. You have to sort the list based on 2nd last character of a string.**"
      ],
      "metadata": {
        "id": "Gk_2_1gbtK5O"
      }
    },
    {
      "cell_type": "code",
      "source": [
        "a = []\n",
        "n = int(input(\"ENTER THE NUMBER OF ELEMENTS YOU WANT TO ENTER: \"))\n",
        "for i in range(n):\n",
        "  a.append(str(input(\"ENTER ELEMENT: \")))\n",
        "print(sorted(a, key=lambda x: x[-2]))\n",
        "\n"
      ],
      "metadata": {
        "id": "3S_w7t0XxesL"
      },
      "execution_count": null,
      "outputs": []
    }
  ]
}