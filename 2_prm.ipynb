{
  "nbformat": 4,
  "nbformat_minor": 0,
  "metadata": {
    "colab": {
      "provenance": [],
      "authorship_tag": "ABX9TyM/tO6umz4G1SEbXVZsWc9G"
    },
    "kernelspec": {
      "name": "python3",
      "display_name": "Python 3"
    },
    "language_info": {
      "name": "python"
    }
  },
  "cells": [
    {
      "cell_type": "markdown",
      "source": [
        "**Your task is to complete the validate_triangle and validate_rectangle functions for the classes.**"
      ],
      "metadata": {
        "id": "QV9q6ORB2C-O"
      }
    },
    {
      "cell_type": "code",
      "source": [
        "a = int(input(\"ENTER FIRST SIDE OF TRIANGLE: \"))\n",
        "b = int(input(\"ENTER SECOND SIDE OF TRIANGLE: \"))\n",
        "c = int(input(\"ENTER THIRD SIDE OF TRIANGLE: \"))\n",
        "\n",
        "l1 = int(input(\"ENTER FIRST DIMENSION(LENGTH) OF RECTANGLE: \"))\n",
        "b1 = int(input(\"ENTER SECOND DIMENSION(BREADTH) OF RECTANGLE: \"))\n",
        "l2 = int(input(\"ENTER THIRD DIMENSION(LENGTH) OF RECTANGLE: \"))\n",
        "b2 = int(input(\"ENTER FOURTH DIMENSION(BREADTH) OF RECTANGLE: \"))\n",
        "\n",
        "def validatetriangle(a,b,c):           #sum of two sides should be greater than third side\n",
        "  if (a+b > c) and (b+c > a) and (c+a > b):\n",
        "    return True\n",
        "  else:\n",
        "    return False\n",
        "\n",
        "if validatetriangle(a,b,c):\n",
        "  print(\"VALID TRIANGLE\")\n",
        "else:\n",
        "  print(\"INVALID TRIANGLE\")\n",
        "\n",
        "def validaterectangle(l1,b1,l2,b2):            \n",
        "  if (l1==l2) and (b1==b2):\n",
        "    return True\n",
        "  else:\n",
        "    return False\n",
        "\n",
        "if validaterectangle(l1,b1,l2,b2):\n",
        "  print(\"VALID RECTANGLE\")\n",
        "else:\n",
        "  print(\"INVALID RECTANGLE\")"
      ],
      "metadata": {
        "id": "p4rACl102FHd"
      },
      "execution_count": null,
      "outputs": []
    }
  ]
}