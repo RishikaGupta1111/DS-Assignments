{
  "nbformat": 4,
  "nbformat_minor": 0,
  "metadata": {
    "colab": {
      "provenance": [],
      "authorship_tag": "ABX9TyOogG+YY8hHcP1ofji42vZ7"
    },
    "kernelspec": {
      "name": "python3",
      "display_name": "Python 3"
    },
    "language_info": {
      "name": "python"
    }
  },
  "cells": [
    {
      "cell_type": "markdown",
      "source": [
        "1. Create a null vector of size 10 but the fifth value which is 1."
      ],
      "metadata": {
        "id": "KIhmOp8JnHQ2"
      }
    },
    {
      "cell_type": "code",
      "source": [
        "import numpy as np\n",
        "vector = np.zeros(10)\n",
        "vector[4] = 1\n",
        "print(vector)"
      ],
      "metadata": {
        "colab": {
          "base_uri": "https://localhost:8080/"
        },
        "id": "H3o8spbTnMDV",
        "outputId": "749bf52c-f16b-4443-f559-ead9641e9824"
      },
      "execution_count": 4,
      "outputs": [
        {
          "output_type": "stream",
          "name": "stdout",
          "text": [
            "[0. 0. 0. 0. 1. 0. 0. 0. 0. 0.]\n"
          ]
        }
      ]
    },
    {
      "cell_type": "markdown",
      "source": [
        "2. Create a vector with values ranging from 10 to 49."
      ],
      "metadata": {
        "id": "MptyVpbknoYv"
      }
    },
    {
      "cell_type": "code",
      "source": [
        "import numpy as np\n",
        "vector1 = np.arange(10,50)\n",
        "print(vector1)"
      ],
      "metadata": {
        "colab": {
          "base_uri": "https://localhost:8080/"
        },
        "id": "OPFgZyKBnskN",
        "outputId": "969c09b9-0cf6-4ee9-e8cf-4e3c6df2a370"
      },
      "execution_count": 5,
      "outputs": [
        {
          "output_type": "stream",
          "name": "stdout",
          "text": [
            "[10 11 12 13 14 15 16 17 18 19 20 21 22 23 24 25 26 27 28 29 30 31 32 33\n",
            " 34 35 36 37 38 39 40 41 42 43 44 45 46 47 48 49]\n"
          ]
        }
      ]
    },
    {
      "cell_type": "markdown",
      "source": [
        "3. Create a 3x3 matrix with values ranging from 0 to 8"
      ],
      "metadata": {
        "id": "E1tEM-W0oF-Z"
      }
    },
    {
      "cell_type": "code",
      "source": [
        "matrix = np.arange(0,9).reshape(3,3)\n",
        "print(matrix)"
      ],
      "metadata": {
        "colab": {
          "base_uri": "https://localhost:8080/"
        },
        "id": "fXQ-9hHLoJhj",
        "outputId": "2743c268-cb8e-483e-81c4-3a7d8921c444"
      },
      "execution_count": 9,
      "outputs": [
        {
          "output_type": "stream",
          "name": "stdout",
          "text": [
            "[[0 1 2]\n",
            " [3 4 5]\n",
            " [6 7 8]]\n"
          ]
        }
      ]
    },
    {
      "cell_type": "markdown",
      "source": [
        "4. Find indices of non-zero elements from [1,2,0,0,4,0]"
      ],
      "metadata": {
        "id": "6ye--ocFo1pU"
      }
    },
    {
      "cell_type": "code",
      "source": [
        "arr = np.array([1,2,0,0,4,0])\n",
        "non_zero_indices= np.nonzero(arr)[0]\n",
        "print(non_zero_indices)\n"
      ],
      "metadata": {
        "colab": {
          "base_uri": "https://localhost:8080/"
        },
        "id": "CCiSWN42o5py",
        "outputId": "94892f45-9914-42a1-f05d-fee600674cf4"
      },
      "execution_count": 10,
      "outputs": [
        {
          "output_type": "stream",
          "name": "stdout",
          "text": [
            "[0 1 4]\n"
          ]
        }
      ]
    },
    {
      "cell_type": "markdown",
      "source": [
        "5. Create a 10x10 array with random values and find the minimum and maximum values."
      ],
      "metadata": {
        "id": "Iky_ybkjpdTT"
      }
    },
    {
      "cell_type": "code",
      "source": [
        "arr1 = np.random.randint(1,50,(10,10))\n",
        "print(\"THE ARRAY IS\", arr1)\n",
        "print(\"THE MINIMUM VALUE IN ARRAY IS\", np.min(arr1))\n",
        "print(\"THE MAXIMUM VALUE IN ARRAY IS\", np.max(arr1))"
      ],
      "metadata": {
        "colab": {
          "base_uri": "https://localhost:8080/"
        },
        "id": "wyiRRM3_pg3c",
        "outputId": "35fd66df-1167-49ed-b412-037fda7afe2e"
      },
      "execution_count": 11,
      "outputs": [
        {
          "output_type": "stream",
          "name": "stdout",
          "text": [
            "THE ARRAY IS [[ 7 24  3 49 35 41  7 46 22 30]\n",
            " [17 16 30 18 44 45 46 46 39 27]\n",
            " [26 45 49 31 17 23 40 19 12 35]\n",
            " [17  7 24 14 40 22 13 14  4  6]\n",
            " [32 34 49 33  2 16 28 37 21 10]\n",
            " [37 42 30 21 11 24 19 42 11 38]\n",
            " [38 41 36  5 17 42  8 15 44 36]\n",
            " [ 6 25  4 15 40 18 49 17 31 46]\n",
            " [ 2 16 31 47 26  2 14 35 41 22]\n",
            " [37 47 21 38 21 19 25 37 21  9]]\n",
            "THE MINIMUM VALUE IN ARRAY IS 2\n",
            "THE MAXIMUM VALUE IN ARRAY IS 49\n"
          ]
        }
      ]
    },
    {
      "cell_type": "markdown",
      "source": [
        "6. Create a random vector of size 30 and find the mean value."
      ],
      "metadata": {
        "id": "6hmgImutqLoi"
      }
    },
    {
      "cell_type": "code",
      "source": [
        "vec= np.random.rand(30)\n",
        "print(\"THE REQUIRED VECTOR IS\", vec)\n",
        "print(\"\\n\\nTHE MEAN OF VECTOR IS\", np.mean(vec))"
      ],
      "metadata": {
        "colab": {
          "base_uri": "https://localhost:8080/"
        },
        "id": "BPVM3TSCqOyk",
        "outputId": "fed83999-9777-42bf-fde3-68d4e64346e2"
      },
      "execution_count": 15,
      "outputs": [
        {
          "output_type": "stream",
          "name": "stdout",
          "text": [
            "THE REQUIRED VECTOR IS [0.88621179 0.76480991 0.2151732  0.71749471 0.91017669 0.83511627\n",
            " 0.67751744 0.15724339 0.52445018 0.7237189  0.63801527 0.01377153\n",
            " 0.58919116 0.27437248 0.44996854 0.26205735 0.1763275  0.95037142\n",
            " 0.38646423 0.10266993 0.20315644 0.87130281 0.12132856 0.61149223\n",
            " 0.72692954 0.88439964 0.29544809 0.62058814 0.92717022 0.56654427]\n",
            "\n",
            "\n",
            "THE MEAN OF VECTOR IS 0.5361160612150065\n"
          ]
        }
      ]
    }
  ]
}